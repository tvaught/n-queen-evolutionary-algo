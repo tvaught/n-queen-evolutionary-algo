{
 "cells": [
  {
   "cell_type": "markdown",
   "metadata": {},
   "source": [
    "# N-Queens Problem Exploration with Python and an Evolutionary Algorithm Approach"
   ]
  },
  {
   "cell_type": "code",
   "execution_count": 32,
   "metadata": {},
   "outputs": [],
   "source": [
    "import random, itertools"
   ]
  },
  {
   "cell_type": "markdown",
   "metadata": {},
   "source": [
    "## this is a heading 2\n"
   ]
  },
  {
   "cell_type": "markdown",
   "metadata": {},
   "source": [
    "Please see https://github.com/aiml-satx/n-queen-evolutionary-algo/blob/master/README.md for background.\n",
    "\n",
    "A chromosome will be in the form of a tuple with N members representing the location of a queen on each row of an N-row square grid. We reduce our problem space by having only one queen per row and a unique integer for each item in the tuple, which represents one queen per column."
   ]
  },
  {
   "cell_type": "markdown",
   "metadata": {},
   "source": [
    "Let's start with a way to randomly generate a layout of queens, and a utility function to print the layout:"
   ]
  },
  {
   "cell_type": "code",
   "execution_count": 33,
   "metadata": {},
   "outputs": [],
   "source": [
    "def gen_random(N):\n",
    "    queen_layout = list(range(N))\n",
    "    random.shuffle(queen_layout)\n",
    "    return tuple(queen_layout)"
   ]
  },
  {
   "cell_type": "code",
   "execution_count": 3,
   "metadata": {},
   "outputs": [],
   "source": [
    "def print_queen_layout(queen_layout, ascii_out=False):\n",
    "    N = len(queen_layout)\n",
    "    if ascii_out:\n",
    "        qn = ' x '\n",
    "        sq = ' o '\n",
    "    else:\n",
    "        qn = u'\\u265B'\n",
    "        sq = u'\\u2B1C'\n",
    "    print(\"\\n\".join(sq*i+qn+sq*(N-i-1) for i in queen_layout))"
   ]
  },
  {
   "cell_type": "code",
   "execution_count": 4,
   "metadata": {},
   "outputs": [
    {
     "name": "stdout",
     "output_type": "stream",
     "text": [
      "(3, 5, 2, 7, 0, 1, 4, 6)\n",
      "⬜⬜⬜♛⬜⬜⬜⬜\n",
      "⬜⬜⬜⬜⬜♛⬜⬜\n",
      "⬜⬜♛⬜⬜⬜⬜⬜\n",
      "⬜⬜⬜⬜⬜⬜⬜♛\n",
      "♛⬜⬜⬜⬜⬜⬜⬜\n",
      "⬜♛⬜⬜⬜⬜⬜⬜\n",
      "⬜⬜⬜⬜♛⬜⬜⬜\n",
      "⬜⬜⬜⬜⬜⬜♛⬜\n",
      " o  o  o  x  o  o  o  o \n",
      " o  o  o  o  o  x  o  o \n",
      " o  o  x  o  o  o  o  o \n",
      " o  o  o  o  o  o  o  x \n",
      " x  o  o  o  o  o  o  o \n",
      " o  x  o  o  o  o  o  o \n",
      " o  o  o  o  x  o  o  o \n",
      " o  o  o  o  o  o  x  o \n"
     ]
    }
   ],
   "source": [
    "# Let's see how this looks:\n",
    "queen_layout = gen_random(8)\n",
    "print(queen_layout)\n",
    "print_queen_layout(queen_layout, ascii_out=False)\n",
    "print_queen_layout(queen_layout, ascii_out=True)"
   ]
  },
  {
   "cell_type": "markdown",
   "metadata": {},
   "source": [
    "Next define a fitness function to evaluate the fitness chromosome (representing a single member of a population)."
   ]
  },
  {
   "cell_type": "code",
   "execution_count": 5,
   "metadata": {},
   "outputs": [],
   "source": [
    "def nqueens_fitness(queen_layout):\n",
    "    \"\"\" scores a particular layout of n-queens (where each diagonal with a collision deducts a point from \n",
    "            a maximum score of N (with no double-counting.))\n",
    "    \n",
    "        Scoring is from this screenshot from Mark Stumbris:\n",
    "        https://aimlofsanantonio.slack.com/files/UHBE7TYSH/FHB8HC82Y/screen_shot_2019-03-26_at_10.45.17_pm.png\n",
    "        \n",
    "        This is really a cool way to score, because you're taking the sum of the value at a particular\n",
    "            index and its index number (queen_layout[i] + i), which should be unique if there are no other\n",
    "            queens on that diagonal.  So the number of unique sums (or differences for the other diagonals)\n",
    "            should be N in the case of a solution.\n",
    "            \n",
    "        Inputs:\n",
    "            queen_layout: n-tuple of integers \n",
    "    \"\"\"\n",
    "    N = len(queen_layout)\n",
    "    cols = range(N)\n",
    "    if N==len(set(queen_layout[i]+i for i in cols))==len(set(queen_layout[i]-i for i in cols)):\n",
    "        return N\n",
    "    else:\n",
    "        return ((N-len(set(queen_layout[i] + i for i in cols))) + (N-len(set(queen_layout[i]-i for i in cols))))/2\n",
    "        "
   ]
  },
  {
   "cell_type": "markdown",
   "metadata": {},
   "source": [
    "Next we should have a way to randomly mutate an individual chromosome in order to introduce variety in the population."
   ]
  },
  {
   "cell_type": "code",
   "execution_count": 6,
   "metadata": {},
   "outputs": [],
   "source": [
    "def gen_mutate(queen_layout, strength=0.5):\n",
    "    N=len(queen_layout)\n",
    "    queen_layout=list(queen_layout)\n",
    "    strength=strength/N\n",
    "    for i in range(N):\n",
    "        if random.random() <= strength:\n",
    "            # swap value with another item by randomly choosing another item's index (could be itself)\n",
    "            j = random.randint(0,N-1)\n",
    "            queen_layout[i], queen_layout[j] = queen_layout[j], queen_layout[i]\n",
    "    return tuple(queen_layout)\n"
   ]
  },
  {
   "cell_type": "markdown",
   "metadata": {},
   "source": [
    "We should now define a function to \"breed\" two members of a population.  In our case we will randomly snip a section from one parent and drop in the items from the other parent that are not included in the random section, but in the order of the second parent. (I know this sounds confusing, so please see this paper for an illustration: \n",
    "https://arxiv.org/pdf/1802.02006.pdf near the end of section 3.)"
   ]
  },
  {
   "cell_type": "code",
   "execution_count": 7,
   "metadata": {},
   "outputs": [],
   "source": [
    "def gen_crossover(parent_1, parent_2, mutate_prob=0.5):\n",
    "    \n",
    "    N = len(parent_1)\n",
    "    start_idx = random.randint(0, N-2)\n",
    "    end_idx = (random.randint(start_idx+1, (N)))\n",
    "    parent_1 = list(parent_1)\n",
    "    parent_2 = list(parent_2)\n",
    "    \n",
    "    child_1 = parent_1.copy()\n",
    "    child_2 = parent_2.copy()\n",
    "    \n",
    "    for itm in parent_1[start_idx:end_idx]:\n",
    "        child_2.remove(itm)\n",
    "        \n",
    "    for itm in parent_2[start_idx:end_idx]:\n",
    "        child_1.remove(itm)\n",
    "    \n",
    "    parent_temp = parent_1.copy()\n",
    "    for x in reversed(parent_2[start_idx:end_idx]): child_1.insert(start_idx,x)\n",
    "    for x in reversed(parent_temp[start_idx:end_idx]): child_2.insert(start_idx,x)\n",
    "    \n",
    "    # add a mutation step, before returning two children\n",
    "    child_1 = gen_mutate(child_1)\n",
    "    child_2 = gen_mutate(child_2)\n",
    "    return child_1, child_2"
   ]
  },
  {
   "cell_type": "code",
   "execution_count": 8,
   "metadata": {},
   "outputs": [
    {
     "name": "stdout",
     "output_type": "stream",
     "text": [
      "Parent 1: (2, 1, 0, 5, 4, 7, 3, 6), Parent 2: (3, 6, 0, 1, 7, 2, 5, 4)\n",
      "Child 1: (3, 6, 0, 2, 1, 5, 4, 7), Child 2: (2, 1, 0, 3, 6, 7, 5, 4)\n"
     ]
    }
   ],
   "source": [
    "# Try it out:\n",
    "parent_1 = gen_random(8)\n",
    "parent_2 = gen_random(8)\n",
    "child_1, child_2 = gen_crossover(parent_1, parent_2)\n",
    "print(\"Parent 1: %s, Parent 2: %s\" % (parent_1, parent_2))\n",
    "print(\"Child 1: %s, Child 2: %s\" % (child_1, child_2))"
   ]
  },
  {
   "cell_type": "markdown",
   "metadata": {},
   "source": [
    "Now I think we're ready to start up a population, evaluate, select, crossover, mutate and iterate.  We'll do this with a slightly larger grid (10x10) and see what happens:"
   ]
  },
  {
   "cell_type": "code",
   "execution_count": 9,
   "metadata": {},
   "outputs": [
    {
     "name": "stdout",
     "output_type": "stream",
     "text": [
      "Solution found at generation 1346: \n",
      "Population: [(6, 8, 0, 5, 2, 1, 3, 9, 7, 4), (6, 7, 0, 8, 9, 1, 3, 5, 2, 4), (6, 2, 0, 5, 8, 9, 1, 3, 7, 4), (1, 5, 0, 8, 2, 7, 9, 3, 6, 4), (6, 7, 0, 5, 2, 9, 3, 8, 1, 4), (2, 0, 4, 7, 9, 1, 3, 8, 6, 5), (7, 6, 5, 0, 2, 1, 4, 8, 3, 9), (6, 7, 0, 5, 2, 1, 3, 8, 4, 9), (1, 2, 0, 5, 6, 3, 7, 8, 4, 9), (7, 0, 5, 2, 1, 8, 9, 3, 6, 4), (7, 0, 5, 6, 1, 3, 2, 9, 8, 4), (0, 6, 1, 5, 7, 9, 3, 8, 2, 4), (6, 7, 0, 5, 2, 1, 3, 8, 4, 9), (6, 5, 0, 8, 9, 1, 3, 7, 2, 4), (6, 7, 0, 5, 2, 1, 3, 8, 4, 9), (6, 7, 0, 3, 2, 1, 5, 8, 4, 9)]\n",
      "Scores: [2.5, 2.5, 1.0, 1.5, 2.5, 2.0, 2.0, 3.0, 3.0, 3.0, 2.0, 10, 3.0, 2.0, 3.0, 3.5]\n",
      "♛⬜⬜⬜⬜⬜⬜⬜⬜⬜\n",
      "⬜⬜⬜⬜⬜⬜♛⬜⬜⬜\n",
      "⬜♛⬜⬜⬜⬜⬜⬜⬜⬜\n",
      "⬜⬜⬜⬜⬜♛⬜⬜⬜⬜\n",
      "⬜⬜⬜⬜⬜⬜⬜♛⬜⬜\n",
      "⬜⬜⬜⬜⬜⬜⬜⬜⬜♛\n",
      "⬜⬜⬜♛⬜⬜⬜⬜⬜⬜\n",
      "⬜⬜⬜⬜⬜⬜⬜⬜♛⬜\n",
      "⬜⬜♛⬜⬜⬜⬜⬜⬜⬜\n",
      "⬜⬜⬜⬜♛⬜⬜⬜⬜⬜\n",
      "None\n"
     ]
    }
   ],
   "source": [
    "N=10   # number of rows and columns\n",
    "pop_size = 10  # population size\n",
    "max_generations = 5000  # maximum number of generations to create\n",
    "\n",
    "# Initialize population\n",
    "population = [gen_random(N) for i in range(pop_size)]\n",
    "\n",
    "counter=0\n",
    "\n",
    "while True:\n",
    "    counter+=1\n",
    "    # Evaluate population\n",
    "    pop_scores = []\n",
    "    for itm in population:\n",
    "        pop_scores.append(nqueens_fitness(itm))\n",
    "    \n",
    "    if N in pop_scores:\n",
    "        print(\"Solution found at generation %s: \" % (counter))\n",
    "        print (\"Population: %s\\nScores: %s\" % (population, pop_scores))\n",
    "        print(print_queen_layout(population[pop_scores.index(N)]))\n",
    "        break\n",
    "        \n",
    "    #print(\"Scores: %s, avg: %s\" % (pop_scores, sum(pop_scores)/pop_size))\n",
    "\n",
    "    # Select parents\n",
    "    chosen = random.choices(population, weights=pop_scores, k=int(N/2))\n",
    "    \n",
    "    # Combine parents\n",
    "    population=[]\n",
    "    chosen_N = len(chosen)\n",
    "    for i in range(chosen_N-1):\n",
    "        if i==chosen_N-2:\n",
    "            j=0\n",
    "        elif i==chosen_N-1:\n",
    "            j=1\n",
    "        else:\n",
    "            j=i+1\n",
    "        k=j+1\n",
    "        \n",
    "        population.extend(list(gen_crossover(chosen[i], chosen[j])))\n",
    "        population.extend(list(gen_crossover(chosen[i], chosen[k])))\n",
    "        \n",
    "    #print(\"Population: %s, counter: %s\" % (population, counter))\n",
    "    \n",
    "    # Set a limit to the number of iterations\n",
    "    if counter>max_generations:\n",
    "        print(\"No solution found within %s generations.\" % max_generations)\n",
    "        break"
   ]
  },
  {
   "cell_type": "markdown",
   "metadata": {},
   "source": [
    "As an exercise for the reader, perhaps we should run the above cell in a loop and get the average number of generations until a solution.  I just ran it repeatedly and got the following generation counts: (1998, 1302, 337, 2381, 343, 63, 161, 1072).  So, it looks like the number of individual fitness evaluations (population x generations) are on the order of 10,000 on average."
   ]
  },
  {
   "cell_type": "code",
   "execution_count": 10,
   "metadata": {},
   "outputs": [
    {
     "name": "stdout",
     "output_type": "stream",
     "text": [
      "9571.25\n"
     ]
    }
   ],
   "source": [
    "# what is the average number of evaluations.\n",
    "generations = [1998, 1302, 337, 2381, 343, 63, 161, 1072]\n",
    "avg_gens = sum(generations)/len(generations)\n",
    "\n",
    "# Now multiply by the population in each generation to get the number of evaluations:\n",
    "print(avg_gens * 10)"
   ]
  },
  {
   "cell_type": "markdown",
   "metadata": {},
   "source": [
    "We should compare this approach with the brute force approach.  I'll use the aforementioned Mark Stumbris code and count the number of iterations to get to the first solution:"
   ]
  },
  {
   "cell_type": "code",
   "execution_count": 11,
   "metadata": {},
   "outputs": [
    {
     "name": "stdout",
     "output_type": "stream",
     "text": [
      "Solution 1: (0, 2, 5, 7, 9, 4, 8, 1, 3, 6) \n",
      "\n",
      " x  o  o  o  o  o  o  o  o  o \n",
      " o  o  x  o  o  o  o  o  o  o \n",
      " o  o  o  o  o  x  o  o  o  o \n",
      " o  o  o  o  o  o  o  x  o  o \n",
      " o  o  o  o  o  o  o  o  o  x \n",
      " o  o  o  o  x  o  o  o  o  o \n",
      " o  o  o  o  o  o  o  o  x  o \n",
      " o  x  o  o  o  o  o  o  o  o \n",
      " o  o  o  x  o  o  o  o  o  o \n",
      " o  o  o  o  o  o  x  o  o  o \n",
      "58987 itertations\n"
     ]
    }
   ],
   "source": [
    "N=10 # I wouldn't recommend any N>12 or so.\n",
    "sol=0\n",
    "cols=range(N)\n",
    "counter = 0\n",
    "for combo in itertools.permutations(cols):\n",
    "    counter+=1\n",
    "    if N==len(set(combo[i]+i for i in cols))==len(set(combo[i]-i for i in cols)):\n",
    "        sol += 1\n",
    "        print('Solution %s: %s \\n' % (sol, combo))\n",
    "        print_queen_layout(combo, ascii_out=True)\n",
    "        print(\"%s itertations\" % (counter,))\n",
    "        break"
   ]
  },
  {
   "cell_type": "markdown",
   "metadata": {},
   "source": [
    "### Conclusion:"
   ]
  },
  {
   "cell_type": "markdown",
   "metadata": {},
   "source": [
    "So, the EA method averages under 10,000 evaluations to get a solution, where the brute force approach finds its first solution at around 59,000 evaluations."
   ]
  },
  {
   "cell_type": "markdown",
   "metadata": {},
   "source": [
    "### Extra Innings..."
   ]
  },
  {
   "cell_type": "markdown",
   "metadata": {},
   "source": [
    "The following code adds some visualization -- and some dependencies.  So, I've just included it at the bottom of the notebook for folks who don't want to add the bokeh package to their python install/environment."
   ]
  },
  {
   "cell_type": "code",
   "execution_count": 12,
   "metadata": {},
   "outputs": [
    {
     "data": {
      "text/html": [
       "\n",
       "    <div class=\"bk-root\">\n",
       "        <a href=\"https://bokeh.pydata.org\" target=\"_blank\" class=\"bk-logo bk-logo-small bk-logo-notebook\"></a>\n",
       "        <span id=\"1001\">Loading BokehJS ...</span>\n",
       "    </div>"
      ]
     },
     "metadata": {},
     "output_type": "display_data"
    },
    {
     "data": {
      "application/javascript": [
       "\n",
       "(function(root) {\n",
       "  function now() {\n",
       "    return new Date();\n",
       "  }\n",
       "\n",
       "  var force = true;\n",
       "\n",
       "  if (typeof (root._bokeh_onload_callbacks) === \"undefined\" || force === true) {\n",
       "    root._bokeh_onload_callbacks = [];\n",
       "    root._bokeh_is_loading = undefined;\n",
       "  }\n",
       "\n",
       "  var JS_MIME_TYPE = 'application/javascript';\n",
       "  var HTML_MIME_TYPE = 'text/html';\n",
       "  var EXEC_MIME_TYPE = 'application/vnd.bokehjs_exec.v0+json';\n",
       "  var CLASS_NAME = 'output_bokeh rendered_html';\n",
       "\n",
       "  /**\n",
       "   * Render data to the DOM node\n",
       "   */\n",
       "  function render(props, node) {\n",
       "    var script = document.createElement(\"script\");\n",
       "    node.appendChild(script);\n",
       "  }\n",
       "\n",
       "  /**\n",
       "   * Handle when an output is cleared or removed\n",
       "   */\n",
       "  function handleClearOutput(event, handle) {\n",
       "    var cell = handle.cell;\n",
       "\n",
       "    var id = cell.output_area._bokeh_element_id;\n",
       "    var server_id = cell.output_area._bokeh_server_id;\n",
       "    // Clean up Bokeh references\n",
       "    if (id != null && id in Bokeh.index) {\n",
       "      Bokeh.index[id].model.document.clear();\n",
       "      delete Bokeh.index[id];\n",
       "    }\n",
       "\n",
       "    if (server_id !== undefined) {\n",
       "      // Clean up Bokeh references\n",
       "      var cmd = \"from bokeh.io.state import curstate; print(curstate().uuid_to_server['\" + server_id + \"'].get_sessions()[0].document.roots[0]._id)\";\n",
       "      cell.notebook.kernel.execute(cmd, {\n",
       "        iopub: {\n",
       "          output: function(msg) {\n",
       "            var id = msg.content.text.trim();\n",
       "            if (id in Bokeh.index) {\n",
       "              Bokeh.index[id].model.document.clear();\n",
       "              delete Bokeh.index[id];\n",
       "            }\n",
       "          }\n",
       "        }\n",
       "      });\n",
       "      // Destroy server and session\n",
       "      var cmd = \"import bokeh.io.notebook as ion; ion.destroy_server('\" + server_id + \"')\";\n",
       "      cell.notebook.kernel.execute(cmd);\n",
       "    }\n",
       "  }\n",
       "\n",
       "  /**\n",
       "   * Handle when a new output is added\n",
       "   */\n",
       "  function handleAddOutput(event, handle) {\n",
       "    var output_area = handle.output_area;\n",
       "    var output = handle.output;\n",
       "\n",
       "    // limit handleAddOutput to display_data with EXEC_MIME_TYPE content only\n",
       "    if ((output.output_type != \"display_data\") || (!output.data.hasOwnProperty(EXEC_MIME_TYPE))) {\n",
       "      return\n",
       "    }\n",
       "\n",
       "    var toinsert = output_area.element.find(\".\" + CLASS_NAME.split(' ')[0]);\n",
       "\n",
       "    if (output.metadata[EXEC_MIME_TYPE][\"id\"] !== undefined) {\n",
       "      toinsert[toinsert.length - 1].firstChild.textContent = output.data[JS_MIME_TYPE];\n",
       "      // store reference to embed id on output_area\n",
       "      output_area._bokeh_element_id = output.metadata[EXEC_MIME_TYPE][\"id\"];\n",
       "    }\n",
       "    if (output.metadata[EXEC_MIME_TYPE][\"server_id\"] !== undefined) {\n",
       "      var bk_div = document.createElement(\"div\");\n",
       "      bk_div.innerHTML = output.data[HTML_MIME_TYPE];\n",
       "      var script_attrs = bk_div.children[0].attributes;\n",
       "      for (var i = 0; i < script_attrs.length; i++) {\n",
       "        toinsert[toinsert.length - 1].firstChild.setAttribute(script_attrs[i].name, script_attrs[i].value);\n",
       "      }\n",
       "      // store reference to server id on output_area\n",
       "      output_area._bokeh_server_id = output.metadata[EXEC_MIME_TYPE][\"server_id\"];\n",
       "    }\n",
       "  }\n",
       "\n",
       "  function register_renderer(events, OutputArea) {\n",
       "\n",
       "    function append_mime(data, metadata, element) {\n",
       "      // create a DOM node to render to\n",
       "      var toinsert = this.create_output_subarea(\n",
       "        metadata,\n",
       "        CLASS_NAME,\n",
       "        EXEC_MIME_TYPE\n",
       "      );\n",
       "      this.keyboard_manager.register_events(toinsert);\n",
       "      // Render to node\n",
       "      var props = {data: data, metadata: metadata[EXEC_MIME_TYPE]};\n",
       "      render(props, toinsert[toinsert.length - 1]);\n",
       "      element.append(toinsert);\n",
       "      return toinsert\n",
       "    }\n",
       "\n",
       "    /* Handle when an output is cleared or removed */\n",
       "    events.on('clear_output.CodeCell', handleClearOutput);\n",
       "    events.on('delete.Cell', handleClearOutput);\n",
       "\n",
       "    /* Handle when a new output is added */\n",
       "    events.on('output_added.OutputArea', handleAddOutput);\n",
       "\n",
       "    /**\n",
       "     * Register the mime type and append_mime function with output_area\n",
       "     */\n",
       "    OutputArea.prototype.register_mime_type(EXEC_MIME_TYPE, append_mime, {\n",
       "      /* Is output safe? */\n",
       "      safe: true,\n",
       "      /* Index of renderer in `output_area.display_order` */\n",
       "      index: 0\n",
       "    });\n",
       "  }\n",
       "\n",
       "  // register the mime type if in Jupyter Notebook environment and previously unregistered\n",
       "  if (root.Jupyter !== undefined) {\n",
       "    var events = require('base/js/events');\n",
       "    var OutputArea = require('notebook/js/outputarea').OutputArea;\n",
       "\n",
       "    if (OutputArea.prototype.mime_types().indexOf(EXEC_MIME_TYPE) == -1) {\n",
       "      register_renderer(events, OutputArea);\n",
       "    }\n",
       "  }\n",
       "\n",
       "  \n",
       "  if (typeof (root._bokeh_timeout) === \"undefined\" || force === true) {\n",
       "    root._bokeh_timeout = Date.now() + 5000;\n",
       "    root._bokeh_failed_load = false;\n",
       "  }\n",
       "\n",
       "  var NB_LOAD_WARNING = {'data': {'text/html':\n",
       "     \"<div style='background-color: #fdd'>\\n\"+\n",
       "     \"<p>\\n\"+\n",
       "     \"BokehJS does not appear to have successfully loaded. If loading BokehJS from CDN, this \\n\"+\n",
       "     \"may be due to a slow or bad network connection. Possible fixes:\\n\"+\n",
       "     \"</p>\\n\"+\n",
       "     \"<ul>\\n\"+\n",
       "     \"<li>re-rerun `output_notebook()` to attempt to load from CDN again, or</li>\\n\"+\n",
       "     \"<li>use INLINE resources instead, as so:</li>\\n\"+\n",
       "     \"</ul>\\n\"+\n",
       "     \"<code>\\n\"+\n",
       "     \"from bokeh.resources import INLINE\\n\"+\n",
       "     \"output_notebook(resources=INLINE)\\n\"+\n",
       "     \"</code>\\n\"+\n",
       "     \"</div>\"}};\n",
       "\n",
       "  function display_loaded() {\n",
       "    var el = document.getElementById(\"1001\");\n",
       "    if (el != null) {\n",
       "      el.textContent = \"BokehJS is loading...\";\n",
       "    }\n",
       "    if (root.Bokeh !== undefined) {\n",
       "      if (el != null) {\n",
       "        el.textContent = \"BokehJS \" + root.Bokeh.version + \" successfully loaded.\";\n",
       "      }\n",
       "    } else if (Date.now() < root._bokeh_timeout) {\n",
       "      setTimeout(display_loaded, 100)\n",
       "    }\n",
       "  }\n",
       "\n",
       "\n",
       "  function run_callbacks() {\n",
       "    try {\n",
       "      root._bokeh_onload_callbacks.forEach(function(callback) { callback() });\n",
       "    }\n",
       "    finally {\n",
       "      delete root._bokeh_onload_callbacks\n",
       "    }\n",
       "    console.info(\"Bokeh: all callbacks have finished\");\n",
       "  }\n",
       "\n",
       "  function load_libs(js_urls, callback) {\n",
       "    root._bokeh_onload_callbacks.push(callback);\n",
       "    if (root._bokeh_is_loading > 0) {\n",
       "      console.log(\"Bokeh: BokehJS is being loaded, scheduling callback at\", now());\n",
       "      return null;\n",
       "    }\n",
       "    if (js_urls == null || js_urls.length === 0) {\n",
       "      run_callbacks();\n",
       "      return null;\n",
       "    }\n",
       "    console.log(\"Bokeh: BokehJS not loaded, scheduling load and callback at\", now());\n",
       "    root._bokeh_is_loading = js_urls.length;\n",
       "    for (var i = 0; i < js_urls.length; i++) {\n",
       "      var url = js_urls[i];\n",
       "      var s = document.createElement('script');\n",
       "      s.src = url;\n",
       "      s.async = false;\n",
       "      s.onreadystatechange = s.onload = function() {\n",
       "        root._bokeh_is_loading--;\n",
       "        if (root._bokeh_is_loading === 0) {\n",
       "          console.log(\"Bokeh: all BokehJS libraries loaded\");\n",
       "          run_callbacks()\n",
       "        }\n",
       "      };\n",
       "      s.onerror = function() {\n",
       "        console.warn(\"failed to load library \" + url);\n",
       "      };\n",
       "      console.log(\"Bokeh: injecting script tag for BokehJS library: \", url);\n",
       "      document.getElementsByTagName(\"head\")[0].appendChild(s);\n",
       "    }\n",
       "  };var element = document.getElementById(\"1001\");\n",
       "  if (element == null) {\n",
       "    console.log(\"Bokeh: ERROR: autoload.js configured with elementid '1001' but no matching script tag was found. \")\n",
       "    return false;\n",
       "  }\n",
       "\n",
       "  var js_urls = [\"https://cdn.pydata.org/bokeh/release/bokeh-1.0.1.min.js\", \"https://cdn.pydata.org/bokeh/release/bokeh-widgets-1.0.1.min.js\", \"https://cdn.pydata.org/bokeh/release/bokeh-tables-1.0.1.min.js\", \"https://cdn.pydata.org/bokeh/release/bokeh-gl-1.0.1.min.js\"];\n",
       "\n",
       "  var inline_js = [\n",
       "    function(Bokeh) {\n",
       "      Bokeh.set_log_level(\"info\");\n",
       "    },\n",
       "    \n",
       "    function(Bokeh) {\n",
       "      \n",
       "    },\n",
       "    function(Bokeh) {\n",
       "      console.log(\"Bokeh: injecting CSS: https://cdn.pydata.org/bokeh/release/bokeh-1.0.1.min.css\");\n",
       "      Bokeh.embed.inject_css(\"https://cdn.pydata.org/bokeh/release/bokeh-1.0.1.min.css\");\n",
       "      console.log(\"Bokeh: injecting CSS: https://cdn.pydata.org/bokeh/release/bokeh-widgets-1.0.1.min.css\");\n",
       "      Bokeh.embed.inject_css(\"https://cdn.pydata.org/bokeh/release/bokeh-widgets-1.0.1.min.css\");\n",
       "      console.log(\"Bokeh: injecting CSS: https://cdn.pydata.org/bokeh/release/bokeh-tables-1.0.1.min.css\");\n",
       "      Bokeh.embed.inject_css(\"https://cdn.pydata.org/bokeh/release/bokeh-tables-1.0.1.min.css\");\n",
       "    }\n",
       "  ];\n",
       "\n",
       "  function run_inline_js() {\n",
       "    \n",
       "    if ((root.Bokeh !== undefined) || (force === true)) {\n",
       "      for (var i = 0; i < inline_js.length; i++) {\n",
       "        inline_js[i].call(root, root.Bokeh);\n",
       "      }if (force === true) {\n",
       "        display_loaded();\n",
       "      }} else if (Date.now() < root._bokeh_timeout) {\n",
       "      setTimeout(run_inline_js, 100);\n",
       "    } else if (!root._bokeh_failed_load) {\n",
       "      console.log(\"Bokeh: BokehJS failed to load within specified timeout.\");\n",
       "      root._bokeh_failed_load = true;\n",
       "    } else if (force !== true) {\n",
       "      var cell = $(document.getElementById(\"1001\")).parents('.cell').data().cell;\n",
       "      cell.output_area.append_execute_result(NB_LOAD_WARNING)\n",
       "    }\n",
       "\n",
       "  }\n",
       "\n",
       "  if (root._bokeh_is_loading === 0) {\n",
       "    console.log(\"Bokeh: BokehJS loaded, going straight to plotting\");\n",
       "    run_inline_js();\n",
       "  } else {\n",
       "    load_libs(js_urls, function() {\n",
       "      console.log(\"Bokeh: BokehJS plotting callback run at\", now());\n",
       "      run_inline_js();\n",
       "    });\n",
       "  }\n",
       "}(window));"
      ],
      "application/vnd.bokehjs_load.v0+json": "\n(function(root) {\n  function now() {\n    return new Date();\n  }\n\n  var force = true;\n\n  if (typeof (root._bokeh_onload_callbacks) === \"undefined\" || force === true) {\n    root._bokeh_onload_callbacks = [];\n    root._bokeh_is_loading = undefined;\n  }\n\n  \n\n  \n  if (typeof (root._bokeh_timeout) === \"undefined\" || force === true) {\n    root._bokeh_timeout = Date.now() + 5000;\n    root._bokeh_failed_load = false;\n  }\n\n  var NB_LOAD_WARNING = {'data': {'text/html':\n     \"<div style='background-color: #fdd'>\\n\"+\n     \"<p>\\n\"+\n     \"BokehJS does not appear to have successfully loaded. If loading BokehJS from CDN, this \\n\"+\n     \"may be due to a slow or bad network connection. Possible fixes:\\n\"+\n     \"</p>\\n\"+\n     \"<ul>\\n\"+\n     \"<li>re-rerun `output_notebook()` to attempt to load from CDN again, or</li>\\n\"+\n     \"<li>use INLINE resources instead, as so:</li>\\n\"+\n     \"</ul>\\n\"+\n     \"<code>\\n\"+\n     \"from bokeh.resources import INLINE\\n\"+\n     \"output_notebook(resources=INLINE)\\n\"+\n     \"</code>\\n\"+\n     \"</div>\"}};\n\n  function display_loaded() {\n    var el = document.getElementById(\"1001\");\n    if (el != null) {\n      el.textContent = \"BokehJS is loading...\";\n    }\n    if (root.Bokeh !== undefined) {\n      if (el != null) {\n        el.textContent = \"BokehJS \" + root.Bokeh.version + \" successfully loaded.\";\n      }\n    } else if (Date.now() < root._bokeh_timeout) {\n      setTimeout(display_loaded, 100)\n    }\n  }\n\n\n  function run_callbacks() {\n    try {\n      root._bokeh_onload_callbacks.forEach(function(callback) { callback() });\n    }\n    finally {\n      delete root._bokeh_onload_callbacks\n    }\n    console.info(\"Bokeh: all callbacks have finished\");\n  }\n\n  function load_libs(js_urls, callback) {\n    root._bokeh_onload_callbacks.push(callback);\n    if (root._bokeh_is_loading > 0) {\n      console.log(\"Bokeh: BokehJS is being loaded, scheduling callback at\", now());\n      return null;\n    }\n    if (js_urls == null || js_urls.length === 0) {\n      run_callbacks();\n      return null;\n    }\n    console.log(\"Bokeh: BokehJS not loaded, scheduling load and callback at\", now());\n    root._bokeh_is_loading = js_urls.length;\n    for (var i = 0; i < js_urls.length; i++) {\n      var url = js_urls[i];\n      var s = document.createElement('script');\n      s.src = url;\n      s.async = false;\n      s.onreadystatechange = s.onload = function() {\n        root._bokeh_is_loading--;\n        if (root._bokeh_is_loading === 0) {\n          console.log(\"Bokeh: all BokehJS libraries loaded\");\n          run_callbacks()\n        }\n      };\n      s.onerror = function() {\n        console.warn(\"failed to load library \" + url);\n      };\n      console.log(\"Bokeh: injecting script tag for BokehJS library: \", url);\n      document.getElementsByTagName(\"head\")[0].appendChild(s);\n    }\n  };var element = document.getElementById(\"1001\");\n  if (element == null) {\n    console.log(\"Bokeh: ERROR: autoload.js configured with elementid '1001' but no matching script tag was found. \")\n    return false;\n  }\n\n  var js_urls = [\"https://cdn.pydata.org/bokeh/release/bokeh-1.0.1.min.js\", \"https://cdn.pydata.org/bokeh/release/bokeh-widgets-1.0.1.min.js\", \"https://cdn.pydata.org/bokeh/release/bokeh-tables-1.0.1.min.js\", \"https://cdn.pydata.org/bokeh/release/bokeh-gl-1.0.1.min.js\"];\n\n  var inline_js = [\n    function(Bokeh) {\n      Bokeh.set_log_level(\"info\");\n    },\n    \n    function(Bokeh) {\n      \n    },\n    function(Bokeh) {\n      console.log(\"Bokeh: injecting CSS: https://cdn.pydata.org/bokeh/release/bokeh-1.0.1.min.css\");\n      Bokeh.embed.inject_css(\"https://cdn.pydata.org/bokeh/release/bokeh-1.0.1.min.css\");\n      console.log(\"Bokeh: injecting CSS: https://cdn.pydata.org/bokeh/release/bokeh-widgets-1.0.1.min.css\");\n      Bokeh.embed.inject_css(\"https://cdn.pydata.org/bokeh/release/bokeh-widgets-1.0.1.min.css\");\n      console.log(\"Bokeh: injecting CSS: https://cdn.pydata.org/bokeh/release/bokeh-tables-1.0.1.min.css\");\n      Bokeh.embed.inject_css(\"https://cdn.pydata.org/bokeh/release/bokeh-tables-1.0.1.min.css\");\n    }\n  ];\n\n  function run_inline_js() {\n    \n    if ((root.Bokeh !== undefined) || (force === true)) {\n      for (var i = 0; i < inline_js.length; i++) {\n        inline_js[i].call(root, root.Bokeh);\n      }if (force === true) {\n        display_loaded();\n      }} else if (Date.now() < root._bokeh_timeout) {\n      setTimeout(run_inline_js, 100);\n    } else if (!root._bokeh_failed_load) {\n      console.log(\"Bokeh: BokehJS failed to load within specified timeout.\");\n      root._bokeh_failed_load = true;\n    } else if (force !== true) {\n      var cell = $(document.getElementById(\"1001\")).parents('.cell').data().cell;\n      cell.output_area.append_execute_result(NB_LOAD_WARNING)\n    }\n\n  }\n\n  if (root._bokeh_is_loading === 0) {\n    console.log(\"Bokeh: BokehJS loaded, going straight to plotting\");\n    run_inline_js();\n  } else {\n    load_libs(js_urls, function() {\n      console.log(\"Bokeh: BokehJS plotting callback run at\", now());\n      run_inline_js();\n    });\n  }\n}(window));"
     },
     "metadata": {},
     "output_type": "display_data"
    }
   ],
   "source": [
    "import numpy as np\n",
    "\n",
    "from bokeh.plotting import figure, show\n",
    "from bokeh.io import output_notebook\n",
    "output_notebook()"
   ]
  },
  {
   "cell_type": "markdown",
   "metadata": {},
   "source": [
    "Make the code above into a function."
   ]
  },
  {
   "cell_type": "code",
   "execution_count": 13,
   "metadata": {},
   "outputs": [],
   "source": [
    "def queen_solver(N, pop_size, max_generations=200000):\n",
    "\n",
    "    # Initialize population\n",
    "    population = [gen_random(N) for i in range(pop_size)]\n",
    "\n",
    "    counter=0\n",
    "    avg_scores = []\n",
    "    \n",
    "    while True:\n",
    "        counter+=1\n",
    "        # Evaluate population\n",
    "        pop_scores = []\n",
    "        for itm in population:\n",
    "            pop_scores.append(nqueens_fitness(itm))\n",
    "\n",
    "        avg_scores.append(sum(pop_scores)/len(pop_scores))\n",
    "        \n",
    "        if N in pop_scores:\n",
    "            #print(\"Solution found at generation %s: \" % (counter))\n",
    "            #print (\"Population: %s\\nScores: %s\" % (population, pop_scores))\n",
    "            #print(print_queen_layout(population[pop_scores.index(N)]))\n",
    "            return population[pop_scores.index(N)], counter, avg_scores\n",
    "\n",
    "        # Select parents\n",
    "        chosen = random.choices(population, weights=pop_scores, k=int(N/2))\n",
    "\n",
    "        # Combine parents\n",
    "        population=[]\n",
    "        chosen_N = len(chosen)\n",
    "        for i in range(chosen_N-1):\n",
    "            if i==chosen_N-2:\n",
    "                j=0\n",
    "            elif i==chosen_N-1:\n",
    "                j=1\n",
    "            else:\n",
    "                j=i+1\n",
    "            k=j+1\n",
    "\n",
    "            population.extend(list(gen_crossover(chosen[i], chosen[j])))\n",
    "            population.extend(list(gen_crossover(chosen[i], chosen[k])))\n",
    "\n",
    "        #print(\"Population: %s, counter: %s\" % (population, counter))\n",
    "\n",
    "        # Set a limit to the number of iterations\n",
    "        if counter>max_generations:\n",
    "            print(\"No solution found within %s generations.\" % max_generations)\n",
    "            return None, counter, avg_scores"
   ]
  },
  {
   "cell_type": "code",
   "execution_count": 14,
   "metadata": {},
   "outputs": [
    {
     "name": "stdout",
     "output_type": "stream",
     "text": [
      "\n",
      "6x6 grid.\n",
      " iteration: \n",
      "0 1 2 3 4 5 6 7 8 9 10 11 12 13 14 15 16 17 18 19 \n",
      "7x7 grid.\n",
      " iteration: \n",
      "0 1 2 3 4 5 6 7 8 9 10 11 12 13 14 15 16 17 18 19 \n",
      "8x8 grid.\n",
      " iteration: \n",
      "0 1 2 3 4 5 6 7 8 9 10 11 12 13 14 15 16 17 18 19 \n",
      "9x9 grid.\n",
      " iteration: \n",
      "0 1 2 3 4 5 6 7 8 9 10 11 12 13 14 15 16 17 18 19 \n",
      "10x10 grid.\n",
      " iteration: \n",
      "0 1 2 3 4 5 6 7 8 9 10 11 12 13 14 15 16 17 18 19 \n",
      "11x11 grid.\n",
      " iteration: \n",
      "0 1 2 3 4 5 6 7 8 9 10 11 12 13 14 15 16 17 18 19 \n",
      "12x12 grid.\n",
      " iteration: \n",
      "0 1 2 3 4 5 6 7 8 9 10 11 12 13 14 15 16 17 18 19 \n",
      "13x13 grid.\n",
      " iteration: \n",
      "0 1 2 3 4 5 6 7 8 9 10 11 12 13 14 15 16 17 18 19 \n",
      "14x14 grid.\n",
      " iteration: \n",
      "0 1 2 3 4 5 6 7 8 9 10 11 12 13 14 15 16 17 18 19 "
     ]
    }
   ],
   "source": [
    "gen_counts = {}\n",
    "grid_sizes = [6, 7, 8, 9, 10, 11, 12, 13, 14]\n",
    "for i in grid_sizes:\n",
    "    print(f'\\n{i}x{i} grid.\\n iteration: ')\n",
    "    for j in range(20):\n",
    "        print(f'{j}', end=' ')\n",
    "        solution, count, avg_scores = queen_solver(i, 10)\n",
    "        if i in gen_counts:\n",
    "            gen_counts[i].append((count, avg_scores))\n",
    "        else:\n",
    "            gen_counts[i]=[(count, avg_scores)]"
   ]
  },
  {
   "cell_type": "code",
   "execution_count": 27,
   "metadata": {},
   "outputs": [],
   "source": [
    "# Plot the stats on evaluation counts for solutions of different size grids\n",
    "\n",
    "grid_size=[]\n",
    "gen_avgs = []\n",
    "gen_mins = []\n",
    "gen_maxes = []\n",
    "\n",
    "for itm, vals in gen_counts.items():\n",
    "    grid_size.append(itm)\n",
    "    counts = np.array([k[0] for k in vals])\n",
    "    gen_avgs.append(counts.mean()*10)\n",
    "    gen_mins.append(counts.min()*10)\n",
    "    gen_maxes.append(counts.max()*10)"
   ]
  },
  {
   "cell_type": "code",
   "execution_count": 28,
   "metadata": {},
   "outputs": [],
   "source": [
    "f = figure()\n",
    "f.line(grid_size, gen_avgs, line_color='cornflowerblue', legend='ea mean evaluations')\n",
    "f.line(grid_size, gen_mins, line_color='green', legend='ea minimum evaluations')\n",
    "f.line(grid_size, gen_maxes, line_color='red', legend='ea maximum evaluations')\n",
    "f.legend.location = \"top_left\""
   ]
  },
  {
   "cell_type": "code",
   "execution_count": 29,
   "metadata": {},
   "outputs": [
    {
     "data": {
      "text/html": [
       "\n",
       "\n",
       "\n",
       "\n",
       "\n",
       "\n",
       "  <div class=\"bk-root\" id=\"304e7f44-8d08-47b7-9989-994c491f9f21\"></div>\n"
      ]
     },
     "metadata": {},
     "output_type": "display_data"
    },
    {
     "data": {
      "application/javascript": [
       "(function(root) {\n",
       "  function embed_document(root) {\n",
       "    \n",
       "  var docs_json = {\"9a59adc1-4446-4b61-b294-447af3fc5bd4\":{\"roots\":{\"references\":[{\"attributes\":{\"below\":[{\"id\":\"1509\",\"type\":\"LinearAxis\"}],\"left\":[{\"id\":\"1514\",\"type\":\"LinearAxis\"}],\"renderers\":[{\"id\":\"1509\",\"type\":\"LinearAxis\"},{\"id\":\"1513\",\"type\":\"Grid\"},{\"id\":\"1514\",\"type\":\"LinearAxis\"},{\"id\":\"1518\",\"type\":\"Grid\"},{\"id\":\"1527\",\"type\":\"BoxAnnotation\"},{\"id\":\"1546\",\"type\":\"Legend\"},{\"id\":\"1537\",\"type\":\"GlyphRenderer\"},{\"id\":\"1551\",\"type\":\"GlyphRenderer\"},{\"id\":\"1566\",\"type\":\"GlyphRenderer\"}],\"title\":{\"id\":\"1539\",\"type\":\"Title\"},\"toolbar\":{\"id\":\"1525\",\"type\":\"Toolbar\"},\"x_range\":{\"id\":\"1501\",\"type\":\"DataRange1d\"},\"x_scale\":{\"id\":\"1505\",\"type\":\"LinearScale\"},\"y_range\":{\"id\":\"1503\",\"type\":\"DataRange1d\"},\"y_scale\":{\"id\":\"1507\",\"type\":\"LinearScale\"}},\"id\":\"1500\",\"subtype\":\"Figure\",\"type\":\"Plot\"},{\"attributes\":{\"plot\":{\"id\":\"1500\",\"subtype\":\"Figure\",\"type\":\"Plot\"},\"ticker\":{\"id\":\"1510\",\"type\":\"BasicTicker\"}},\"id\":\"1513\",\"type\":\"Grid\"},{\"attributes\":{\"callback\":null,\"data\":{\"x\":[6,7,8,9,10,11,12,13,14],\"y\":[661.5,519.5,881.0,2017.5,7970.0,39084.5,34467.5,132253.5,295226.0]},\"selected\":{\"id\":\"1560\",\"type\":\"Selection\"},\"selection_policy\":{\"id\":\"1559\",\"type\":\"UnionRenderers\"}},\"id\":\"1534\",\"type\":\"ColumnDataSource\"},{\"attributes\":{},\"id\":\"1524\",\"type\":\"HelpTool\"},{\"attributes\":{\"data_source\":{\"id\":\"1534\",\"type\":\"ColumnDataSource\"},\"glyph\":{\"id\":\"1535\",\"type\":\"Line\"},\"hover_glyph\":null,\"muted_glyph\":null,\"nonselection_glyph\":{\"id\":\"1536\",\"type\":\"Line\"},\"selection_glyph\":null,\"view\":{\"id\":\"1538\",\"type\":\"CDSView\"}},\"id\":\"1537\",\"type\":\"GlyphRenderer\"},{\"attributes\":{\"line_color\":\"green\",\"x\":{\"field\":\"x\"},\"y\":{\"field\":\"y\"}},\"id\":\"1549\",\"type\":\"Line\"},{\"attributes\":{},\"id\":\"1523\",\"type\":\"ResetTool\"},{\"attributes\":{\"callback\":null,\"data\":{\"x\":[6,7,8,9,10,11,12,13,14],\"y\":[2160,1870,3110,5680,40910,181640,161840,328860,855940]},\"selected\":{\"id\":\"1619\",\"type\":\"Selection\"},\"selection_policy\":{\"id\":\"1618\",\"type\":\"UnionRenderers\"}},\"id\":\"1563\",\"type\":\"ColumnDataSource\"},{\"attributes\":{\"label\":{\"value\":\"ea mean evaluations\"},\"renderers\":[{\"id\":\"1537\",\"type\":\"GlyphRenderer\"}]},\"id\":\"1547\",\"type\":\"LegendItem\"},{\"attributes\":{},\"id\":\"1519\",\"type\":\"PanTool\"},{\"attributes\":{},\"id\":\"1559\",\"type\":\"UnionRenderers\"},{\"attributes\":{\"dimension\":1,\"plot\":{\"id\":\"1500\",\"subtype\":\"Figure\",\"type\":\"Plot\"},\"ticker\":{\"id\":\"1515\",\"type\":\"BasicTicker\"}},\"id\":\"1518\",\"type\":\"Grid\"},{\"attributes\":{},\"id\":\"1520\",\"type\":\"WheelZoomTool\"},{\"attributes\":{\"formatter\":{\"id\":\"1542\",\"type\":\"BasicTickFormatter\"},\"plot\":{\"id\":\"1500\",\"subtype\":\"Figure\",\"type\":\"Plot\"},\"ticker\":{\"id\":\"1515\",\"type\":\"BasicTicker\"}},\"id\":\"1514\",\"type\":\"LinearAxis\"},{\"attributes\":{\"line_alpha\":0.1,\"line_color\":\"#1f77b4\",\"x\":{\"field\":\"x\"},\"y\":{\"field\":\"y\"}},\"id\":\"1550\",\"type\":\"Line\"},{\"attributes\":{\"overlay\":{\"id\":\"1527\",\"type\":\"BoxAnnotation\"}},\"id\":\"1521\",\"type\":\"BoxZoomTool\"},{\"attributes\":{},\"id\":\"1505\",\"type\":\"LinearScale\"},{\"attributes\":{\"data_source\":{\"id\":\"1548\",\"type\":\"ColumnDataSource\"},\"glyph\":{\"id\":\"1549\",\"type\":\"Line\"},\"hover_glyph\":null,\"muted_glyph\":null,\"nonselection_glyph\":{\"id\":\"1550\",\"type\":\"Line\"},\"selection_glyph\":null,\"view\":{\"id\":\"1552\",\"type\":\"CDSView\"}},\"id\":\"1551\",\"type\":\"GlyphRenderer\"},{\"attributes\":{\"active_drag\":\"auto\",\"active_inspect\":\"auto\",\"active_multi\":null,\"active_scroll\":\"auto\",\"active_tap\":\"auto\",\"tools\":[{\"id\":\"1519\",\"type\":\"PanTool\"},{\"id\":\"1520\",\"type\":\"WheelZoomTool\"},{\"id\":\"1521\",\"type\":\"BoxZoomTool\"},{\"id\":\"1522\",\"type\":\"SaveTool\"},{\"id\":\"1523\",\"type\":\"ResetTool\"},{\"id\":\"1524\",\"type\":\"HelpTool\"}]},\"id\":\"1525\",\"type\":\"Toolbar\"},{\"attributes\":{\"line_alpha\":0.1,\"line_color\":\"#1f77b4\",\"x\":{\"field\":\"x\"},\"y\":{\"field\":\"y\"}},\"id\":\"1536\",\"type\":\"Line\"},{\"attributes\":{\"callback\":null},\"id\":\"1501\",\"type\":\"DataRange1d\"},{\"attributes\":{\"source\":{\"id\":\"1548\",\"type\":\"ColumnDataSource\"}},\"id\":\"1552\",\"type\":\"CDSView\"},{\"attributes\":{\"callback\":null,\"data\":{\"x\":[6,7,8,9,10,11,12,13,14],\"y\":[10,10,10,70,370,180,2510,5890,1790]},\"selected\":{\"id\":\"1577\",\"type\":\"Selection\"},\"selection_policy\":{\"id\":\"1576\",\"type\":\"UnionRenderers\"}},\"id\":\"1548\",\"type\":\"ColumnDataSource\"},{\"attributes\":{},\"id\":\"1560\",\"type\":\"Selection\"},{\"attributes\":{\"callback\":null},\"id\":\"1503\",\"type\":\"DataRange1d\"},{\"attributes\":{},\"id\":\"1507\",\"type\":\"LinearScale\"},{\"attributes\":{\"line_color\":\"red\",\"x\":{\"field\":\"x\"},\"y\":{\"field\":\"y\"}},\"id\":\"1564\",\"type\":\"Line\"},{\"attributes\":{},\"id\":\"1618\",\"type\":\"UnionRenderers\"},{\"attributes\":{\"label\":{\"value\":\"ea minimum evaluations\"},\"renderers\":[{\"id\":\"1551\",\"type\":\"GlyphRenderer\"}]},\"id\":\"1562\",\"type\":\"LegendItem\"},{\"attributes\":{\"formatter\":{\"id\":\"1544\",\"type\":\"BasicTickFormatter\"},\"plot\":{\"id\":\"1500\",\"subtype\":\"Figure\",\"type\":\"Plot\"},\"ticker\":{\"id\":\"1510\",\"type\":\"BasicTicker\"}},\"id\":\"1509\",\"type\":\"LinearAxis\"},{\"attributes\":{},\"id\":\"1542\",\"type\":\"BasicTickFormatter\"},{\"attributes\":{\"items\":[{\"id\":\"1547\",\"type\":\"LegendItem\"},{\"id\":\"1562\",\"type\":\"LegendItem\"},{\"id\":\"1579\",\"type\":\"LegendItem\"}],\"location\":\"top_left\",\"plot\":{\"id\":\"1500\",\"subtype\":\"Figure\",\"type\":\"Plot\"}},\"id\":\"1546\",\"type\":\"Legend\"},{\"attributes\":{\"line_alpha\":0.1,\"line_color\":\"#1f77b4\",\"x\":{\"field\":\"x\"},\"y\":{\"field\":\"y\"}},\"id\":\"1565\",\"type\":\"Line\"},{\"attributes\":{},\"id\":\"1522\",\"type\":\"SaveTool\"},{\"attributes\":{\"data_source\":{\"id\":\"1563\",\"type\":\"ColumnDataSource\"},\"glyph\":{\"id\":\"1564\",\"type\":\"Line\"},\"hover_glyph\":null,\"muted_glyph\":null,\"nonselection_glyph\":{\"id\":\"1565\",\"type\":\"Line\"},\"selection_glyph\":null,\"view\":{\"id\":\"1567\",\"type\":\"CDSView\"}},\"id\":\"1566\",\"type\":\"GlyphRenderer\"},{\"attributes\":{},\"id\":\"1619\",\"type\":\"Selection\"},{\"attributes\":{},\"id\":\"1544\",\"type\":\"BasicTickFormatter\"},{\"attributes\":{\"source\":{\"id\":\"1563\",\"type\":\"ColumnDataSource\"}},\"id\":\"1567\",\"type\":\"CDSView\"},{\"attributes\":{\"bottom_units\":\"screen\",\"fill_alpha\":{\"value\":0.5},\"fill_color\":{\"value\":\"lightgrey\"},\"left_units\":\"screen\",\"level\":\"overlay\",\"line_alpha\":{\"value\":1.0},\"line_color\":{\"value\":\"black\"},\"line_dash\":[4,4],\"line_width\":{\"value\":2},\"plot\":null,\"render_mode\":\"css\",\"right_units\":\"screen\",\"top_units\":\"screen\"},\"id\":\"1527\",\"type\":\"BoxAnnotation\"},{\"attributes\":{\"plot\":null,\"text\":\"\"},\"id\":\"1539\",\"type\":\"Title\"},{\"attributes\":{},\"id\":\"1576\",\"type\":\"UnionRenderers\"},{\"attributes\":{},\"id\":\"1577\",\"type\":\"Selection\"},{\"attributes\":{},\"id\":\"1510\",\"type\":\"BasicTicker\"},{\"attributes\":{},\"id\":\"1515\",\"type\":\"BasicTicker\"},{\"attributes\":{\"source\":{\"id\":\"1534\",\"type\":\"ColumnDataSource\"}},\"id\":\"1538\",\"type\":\"CDSView\"},{\"attributes\":{\"label\":{\"value\":\"ea maximum evaluations\"},\"renderers\":[{\"id\":\"1566\",\"type\":\"GlyphRenderer\"}]},\"id\":\"1579\",\"type\":\"LegendItem\"},{\"attributes\":{\"line_color\":\"cornflowerblue\",\"x\":{\"field\":\"x\"},\"y\":{\"field\":\"y\"}},\"id\":\"1535\",\"type\":\"Line\"}],\"root_ids\":[\"1500\"]},\"title\":\"Bokeh Application\",\"version\":\"1.0.1\"}};\n",
       "  var render_items = [{\"docid\":\"9a59adc1-4446-4b61-b294-447af3fc5bd4\",\"roots\":{\"1500\":\"304e7f44-8d08-47b7-9989-994c491f9f21\"}}];\n",
       "  root.Bokeh.embed.embed_items_notebook(docs_json, render_items);\n",
       "\n",
       "  }\n",
       "  if (root.Bokeh !== undefined) {\n",
       "    embed_document(root);\n",
       "  } else {\n",
       "    var attempts = 0;\n",
       "    var timer = setInterval(function(root) {\n",
       "      if (root.Bokeh !== undefined) {\n",
       "        embed_document(root);\n",
       "        clearInterval(timer);\n",
       "      }\n",
       "      attempts++;\n",
       "      if (attempts > 100) {\n",
       "        console.log(\"Bokeh: ERROR: Unable to run BokehJS code because BokehJS library is missing\");\n",
       "        clearInterval(timer);\n",
       "      }\n",
       "    }, 10, root)\n",
       "  }\n",
       "})(window);"
      ],
      "application/vnd.bokehjs_exec.v0+json": ""
     },
     "metadata": {
      "application/vnd.bokehjs_exec.v0+json": {
       "id": "1500"
      }
     },
     "output_type": "display_data"
    }
   ],
   "source": [
    "show(f)"
   ]
  },
  {
   "cell_type": "code",
   "execution_count": 20,
   "metadata": {},
   "outputs": [],
   "source": [
    "# How do things look for the brute force approach?\n",
    "\n",
    "def nqueen_brute_force(grid_size):\n",
    "    sol=0\n",
    "    cols=range(grid_size)\n",
    "    counter = 0\n",
    "    for combo in itertools.permutations(cols):\n",
    "        counter+=1\n",
    "        if grid_size==len(set(combo[i]+i for i in cols))==len(set(combo[i]-i for i in cols)):\n",
    "            sol += 1\n",
    "            print('Solution for %sx%s grid in %s evaluations.\\n' % (grid_size, grid_size, counter))\n",
    "            print_queen_layout(combo, ascii_out=True)\n",
    "            #print(\"%s itertations\" % (counter))\n",
    "            return (combo, counter)\n"
   ]
  },
  {
   "cell_type": "code",
   "execution_count": 21,
   "metadata": {},
   "outputs": [
    {
     "name": "stdout",
     "output_type": "stream",
     "text": [
      "Solution for 6x6 grid in 187 evaluations.\n",
      "\n",
      " o  x  o  o  o  o \n",
      " o  o  o  x  o  o \n",
      " o  o  o  o  o  x \n",
      " x  o  o  o  o  o \n",
      " o  o  x  o  o  o \n",
      " o  o  o  o  x  o \n",
      "Solution for 7x7 grid in 187 evaluations.\n",
      "\n",
      " x  o  o  o  o  o  o \n",
      " o  o  x  o  o  o  o \n",
      " o  o  o  o  x  o  o \n",
      " o  o  o  o  o  o  x \n",
      " o  x  o  o  o  o  o \n",
      " o  o  o  x  o  o  o \n",
      " o  o  o  o  o  x  o \n",
      "Solution for 8x8 grid in 2843 evaluations.\n",
      "\n",
      " x  o  o  o  o  o  o  o \n",
      " o  o  o  o  x  o  o  o \n",
      " o  o  o  o  o  o  o  x \n",
      " o  o  o  o  o  x  o  o \n",
      " o  o  x  o  o  o  o  o \n",
      " o  o  o  o  o  o  x  o \n",
      " o  x  o  o  o  o  o  o \n",
      " o  o  o  x  o  o  o  o \n",
      "Solution for 9x9 grid in 7686 evaluations.\n",
      "\n",
      " x  o  o  o  o  o  o  o  o \n",
      " o  o  x  o  o  o  o  o  o \n",
      " o  o  o  o  o  x  o  o  o \n",
      " o  o  o  o  o  o  o  x  o \n",
      " o  x  o  o  o  o  o  o  o \n",
      " o  o  o  x  o  o  o  o  o \n",
      " o  o  o  o  o  o  o  o  x \n",
      " o  o  o  o  o  o  x  o  o \n",
      " o  o  o  o  x  o  o  o  o \n",
      "Solution for 10x10 grid in 58987 evaluations.\n",
      "\n",
      " x  o  o  o  o  o  o  o  o  o \n",
      " o  o  x  o  o  o  o  o  o  o \n",
      " o  o  o  o  o  x  o  o  o  o \n",
      " o  o  o  o  o  o  o  x  o  o \n",
      " o  o  o  o  o  o  o  o  o  x \n",
      " o  o  o  o  x  o  o  o  o  o \n",
      " o  o  o  o  o  o  o  o  x  o \n",
      " o  x  o  o  o  o  o  o  o  o \n",
      " o  o  o  x  o  o  o  o  o  o \n",
      " o  o  o  o  o  o  x  o  o  o \n",
      "Solution for 11x11 grid in 462121 evaluations.\n",
      "\n",
      " x  o  o  o  o  o  o  o  o  o  o \n",
      " o  o  x  o  o  o  o  o  o  o  o \n",
      " o  o  o  o  x  o  o  o  o  o  o \n",
      " o  o  o  o  o  o  x  o  o  o  o \n",
      " o  o  o  o  o  o  o  o  x  o  o \n",
      " o  o  o  o  o  o  o  o  o  o  x \n",
      " o  x  o  o  o  o  o  o  o  o  o \n",
      " o  o  o  x  o  o  o  o  o  o  o \n",
      " o  o  o  o  o  x  o  o  o  o  o \n",
      " o  o  o  o  o  o  o  x  o  o  o \n",
      " o  o  o  o  o  o  o  o  o  x  o \n",
      "Solution for 12x12 grid in 4545700 evaluations.\n",
      "\n",
      " x  o  o  o  o  o  o  o  o  o  o  o \n",
      " o  o  x  o  o  o  o  o  o  o  o  o \n",
      " o  o  o  o  x  o  o  o  o  o  o  o \n",
      " o  o  o  o  o  o  o  x  o  o  o  o \n",
      " o  o  o  o  o  o  o  o  o  x  o  o \n",
      " o  o  o  o  o  o  o  o  o  o  o  x \n",
      " o  o  o  o  o  x  o  o  o  o  o  o \n",
      " o  o  o  o  o  o  o  o  o  o  x  o \n",
      " o  x  o  o  o  o  o  o  o  o  o  o \n",
      " o  o  o  o  o  o  x  o  o  o  o  o \n",
      " o  o  o  o  o  o  o  o  x  o  o  o \n",
      " o  o  o  x  o  o  o  o  o  o  o  o \n",
      "Solution for 13x13 grid in 47369404 evaluations.\n",
      "\n",
      " x  o  o  o  o  o  o  o  o  o  o  o  o \n",
      " o  o  x  o  o  o  o  o  o  o  o  o  o \n",
      " o  o  o  o  x  o  o  o  o  o  o  o  o \n",
      " o  x  o  o  o  o  o  o  o  o  o  o  o \n",
      " o  o  o  o  o  o  o  o  x  o  o  o  o \n",
      " o  o  o  o  o  o  o  o  o  o  o  x  o \n",
      " o  o  o  o  o  o  o  o  o  x  o  o  o \n",
      " o  o  o  o  o  o  o  o  o  o  o  o  x \n",
      " o  o  o  x  o  o  o  o  o  o  o  o  o \n",
      " o  o  o  o  o  x  o  o  o  o  o  o  o \n",
      " o  o  o  o  o  o  o  x  o  o  o  o  o \n",
      " o  o  o  o  o  o  o  o  o  o  x  o  o \n",
      " o  o  o  o  o  o  x  o  o  o  o  o  o \n"
     ]
    }
   ],
   "source": [
    "N = [6,7,8,9,10,11,12,13] # I wouldn't recommend any N>12 or so.\n",
    "\n",
    "solutions = {}\n",
    "     \n",
    "for grid_size in N:\n",
    "    solutions[grid_size] = nqueen_brute_force(grid_size)"
   ]
  },
  {
   "cell_type": "code",
   "execution_count": 22,
   "metadata": {},
   "outputs": [
    {
     "data": {
      "text/plain": [
       "{6: ((1, 3, 5, 0, 2, 4), 187),\n",
       " 7: ((0, 2, 4, 6, 1, 3, 5), 187),\n",
       " 8: ((0, 4, 7, 5, 2, 6, 1, 3), 2843),\n",
       " 9: ((0, 2, 5, 7, 1, 3, 8, 6, 4), 7686),\n",
       " 10: ((0, 2, 5, 7, 9, 4, 8, 1, 3, 6), 58987),\n",
       " 11: ((0, 2, 4, 6, 8, 10, 1, 3, 5, 7, 9), 462121),\n",
       " 12: ((0, 2, 4, 7, 9, 11, 5, 10, 1, 6, 8, 3), 4545700),\n",
       " 13: ((0, 2, 4, 1, 8, 11, 9, 12, 3, 5, 7, 10, 6), 47369404)}"
      ]
     },
     "execution_count": 22,
     "metadata": {},
     "output_type": "execute_result"
    }
   ],
   "source": [
    "solutions"
   ]
  },
  {
   "cell_type": "code",
   "execution_count": 30,
   "metadata": {},
   "outputs": [
    {
     "data": {
      "text/html": [
       "<div style=\"display: table;\"><div style=\"display: table-row;\"><div style=\"display: table-cell;\"><b title=\"bokeh.models.renderers.GlyphRenderer\">GlyphRenderer</b>(</div><div style=\"display: table-cell;\">id&nbsp;=&nbsp;'1702', <span id=\"1805\" style=\"cursor: pointer;\">&hellip;)</span></div></div><div class=\"1804\" style=\"display: none;\"><div style=\"display: table-cell;\"></div><div style=\"display: table-cell;\">data_source&nbsp;=&nbsp;ColumnDataSource(id='1699', ...),</div></div><div class=\"1804\" style=\"display: none;\"><div style=\"display: table-cell;\"></div><div style=\"display: table-cell;\">glyph&nbsp;=&nbsp;Line(id='1700', ...),</div></div><div class=\"1804\" style=\"display: none;\"><div style=\"display: table-cell;\"></div><div style=\"display: table-cell;\">hover_glyph&nbsp;=&nbsp;None,</div></div><div class=\"1804\" style=\"display: none;\"><div style=\"display: table-cell;\"></div><div style=\"display: table-cell;\">js_event_callbacks&nbsp;=&nbsp;{},</div></div><div class=\"1804\" style=\"display: none;\"><div style=\"display: table-cell;\"></div><div style=\"display: table-cell;\">js_property_callbacks&nbsp;=&nbsp;{},</div></div><div class=\"1804\" style=\"display: none;\"><div style=\"display: table-cell;\"></div><div style=\"display: table-cell;\">level&nbsp;=&nbsp;'glyph',</div></div><div class=\"1804\" style=\"display: none;\"><div style=\"display: table-cell;\"></div><div style=\"display: table-cell;\">muted&nbsp;=&nbsp;False,</div></div><div class=\"1804\" style=\"display: none;\"><div style=\"display: table-cell;\"></div><div style=\"display: table-cell;\">muted_glyph&nbsp;=&nbsp;None,</div></div><div class=\"1804\" style=\"display: none;\"><div style=\"display: table-cell;\"></div><div style=\"display: table-cell;\">name&nbsp;=&nbsp;None,</div></div><div class=\"1804\" style=\"display: none;\"><div style=\"display: table-cell;\"></div><div style=\"display: table-cell;\">nonselection_glyph&nbsp;=&nbsp;Line(id='1701', ...),</div></div><div class=\"1804\" style=\"display: none;\"><div style=\"display: table-cell;\"></div><div style=\"display: table-cell;\">selection_glyph&nbsp;=&nbsp;None,</div></div><div class=\"1804\" style=\"display: none;\"><div style=\"display: table-cell;\"></div><div style=\"display: table-cell;\">subscribed_events&nbsp;=&nbsp;[],</div></div><div class=\"1804\" style=\"display: none;\"><div style=\"display: table-cell;\"></div><div style=\"display: table-cell;\">tags&nbsp;=&nbsp;[],</div></div><div class=\"1804\" style=\"display: none;\"><div style=\"display: table-cell;\"></div><div style=\"display: table-cell;\">view&nbsp;=&nbsp;CDSView(id='1703', ...),</div></div><div class=\"1804\" style=\"display: none;\"><div style=\"display: table-cell;\"></div><div style=\"display: table-cell;\">visible&nbsp;=&nbsp;True,</div></div><div class=\"1804\" style=\"display: none;\"><div style=\"display: table-cell;\"></div><div style=\"display: table-cell;\">x_range_name&nbsp;=&nbsp;'default',</div></div><div class=\"1804\" style=\"display: none;\"><div style=\"display: table-cell;\"></div><div style=\"display: table-cell;\">y_range_name&nbsp;=&nbsp;'default')</div></div></div>\n",
       "<script>\n",
       "(function() {\n",
       "  var expanded = false;\n",
       "  var ellipsis = document.getElementById(\"1805\");\n",
       "  ellipsis.addEventListener(\"click\", function() {\n",
       "    var rows = document.getElementsByClassName(\"1804\");\n",
       "    for (var i = 0; i < rows.length; i++) {\n",
       "      var el = rows[i];\n",
       "      el.style.display = expanded ? \"none\" : \"table-row\";\n",
       "    }\n",
       "    ellipsis.innerHTML = expanded ? \"&hellip;)\" : \"&lsaquo;&lsaquo;&lsaquo;\";\n",
       "    expanded = !expanded;\n",
       "  });\n",
       "})();\n",
       "</script>\n"
      ],
      "text/plain": [
       "GlyphRenderer(id='1702', ...)"
      ]
     },
     "execution_count": 30,
     "metadata": {},
     "output_type": "execute_result"
    }
   ],
   "source": [
    "f.line(N, [i[1][1] for i in solutions.items()], line_color='darkgray', legend='brute force')"
   ]
  },
  {
   "cell_type": "code",
   "execution_count": 31,
   "metadata": {},
   "outputs": [
    {
     "data": {
      "text/html": [
       "\n",
       "\n",
       "\n",
       "\n",
       "\n",
       "\n",
       "  <div class=\"bk-root\" id=\"139af6c0-e8c3-4704-9105-48f937cad10e\"></div>\n"
      ]
     },
     "metadata": {},
     "output_type": "display_data"
    },
    {
     "data": {
      "application/javascript": [
       "(function(root) {\n",
       "  function embed_document(root) {\n",
       "    \n",
       "  var docs_json = {\"c4dd8f46-9f2e-4b88-b90a-b92cc8d58f72\":{\"roots\":{\"references\":[{\"attributes\":{\"below\":[{\"id\":\"1509\",\"type\":\"LinearAxis\"}],\"left\":[{\"id\":\"1514\",\"type\":\"LinearAxis\"}],\"renderers\":[{\"id\":\"1509\",\"type\":\"LinearAxis\"},{\"id\":\"1513\",\"type\":\"Grid\"},{\"id\":\"1514\",\"type\":\"LinearAxis\"},{\"id\":\"1518\",\"type\":\"Grid\"},{\"id\":\"1527\",\"type\":\"BoxAnnotation\"},{\"id\":\"1546\",\"type\":\"Legend\"},{\"id\":\"1537\",\"type\":\"GlyphRenderer\"},{\"id\":\"1551\",\"type\":\"GlyphRenderer\"},{\"id\":\"1566\",\"type\":\"GlyphRenderer\"},{\"id\":\"1702\",\"type\":\"GlyphRenderer\"}],\"title\":{\"id\":\"1539\",\"type\":\"Title\"},\"toolbar\":{\"id\":\"1525\",\"type\":\"Toolbar\"},\"x_range\":{\"id\":\"1501\",\"type\":\"DataRange1d\"},\"x_scale\":{\"id\":\"1505\",\"type\":\"LinearScale\"},\"y_range\":{\"id\":\"1503\",\"type\":\"DataRange1d\"},\"y_scale\":{\"id\":\"1507\",\"type\":\"LinearScale\"}},\"id\":\"1500\",\"subtype\":\"Figure\",\"type\":\"Plot\"},{\"attributes\":{\"plot\":{\"id\":\"1500\",\"subtype\":\"Figure\",\"type\":\"Plot\"},\"ticker\":{\"id\":\"1510\",\"type\":\"BasicTicker\"}},\"id\":\"1513\",\"type\":\"Grid\"},{\"attributes\":{},\"id\":\"1759\",\"type\":\"UnionRenderers\"},{\"attributes\":{\"callback\":null,\"data\":{\"x\":[6,7,8,9,10,11,12,13,14],\"y\":[661.5,519.5,881.0,2017.5,7970.0,39084.5,34467.5,132253.5,295226.0]},\"selected\":{\"id\":\"1560\",\"type\":\"Selection\"},\"selection_policy\":{\"id\":\"1559\",\"type\":\"UnionRenderers\"}},\"id\":\"1534\",\"type\":\"ColumnDataSource\"},{\"attributes\":{},\"id\":\"1524\",\"type\":\"HelpTool\"},{\"attributes\":{\"data_source\":{\"id\":\"1534\",\"type\":\"ColumnDataSource\"},\"glyph\":{\"id\":\"1535\",\"type\":\"Line\"},\"hover_glyph\":null,\"muted_glyph\":null,\"nonselection_glyph\":{\"id\":\"1536\",\"type\":\"Line\"},\"selection_glyph\":null,\"view\":{\"id\":\"1538\",\"type\":\"CDSView\"}},\"id\":\"1537\",\"type\":\"GlyphRenderer\"},{\"attributes\":{\"line_color\":\"green\",\"x\":{\"field\":\"x\"},\"y\":{\"field\":\"y\"}},\"id\":\"1549\",\"type\":\"Line\"},{\"attributes\":{},\"id\":\"1523\",\"type\":\"ResetTool\"},{\"attributes\":{\"callback\":null,\"data\":{\"x\":[6,7,8,9,10,11,12,13,14],\"y\":[2160,1870,3110,5680,40910,181640,161840,328860,855940]},\"selected\":{\"id\":\"1619\",\"type\":\"Selection\"},\"selection_policy\":{\"id\":\"1618\",\"type\":\"UnionRenderers\"}},\"id\":\"1563\",\"type\":\"ColumnDataSource\"},{\"attributes\":{\"label\":{\"value\":\"ea mean evaluations\"},\"renderers\":[{\"id\":\"1537\",\"type\":\"GlyphRenderer\"}]},\"id\":\"1547\",\"type\":\"LegendItem\"},{\"attributes\":{},\"id\":\"1519\",\"type\":\"PanTool\"},{\"attributes\":{},\"id\":\"1559\",\"type\":\"UnionRenderers\"},{\"attributes\":{\"dimension\":1,\"plot\":{\"id\":\"1500\",\"subtype\":\"Figure\",\"type\":\"Plot\"},\"ticker\":{\"id\":\"1515\",\"type\":\"BasicTicker\"}},\"id\":\"1518\",\"type\":\"Grid\"},{\"attributes\":{},\"id\":\"1520\",\"type\":\"WheelZoomTool\"},{\"attributes\":{\"formatter\":{\"id\":\"1542\",\"type\":\"BasicTickFormatter\"},\"plot\":{\"id\":\"1500\",\"subtype\":\"Figure\",\"type\":\"Plot\"},\"ticker\":{\"id\":\"1515\",\"type\":\"BasicTicker\"}},\"id\":\"1514\",\"type\":\"LinearAxis\"},{\"attributes\":{\"line_alpha\":0.1,\"line_color\":\"#1f77b4\",\"x\":{\"field\":\"x\"},\"y\":{\"field\":\"y\"}},\"id\":\"1550\",\"type\":\"Line\"},{\"attributes\":{\"overlay\":{\"id\":\"1527\",\"type\":\"BoxAnnotation\"}},\"id\":\"1521\",\"type\":\"BoxZoomTool\"},{\"attributes\":{},\"id\":\"1505\",\"type\":\"LinearScale\"},{\"attributes\":{\"data_source\":{\"id\":\"1548\",\"type\":\"ColumnDataSource\"},\"glyph\":{\"id\":\"1549\",\"type\":\"Line\"},\"hover_glyph\":null,\"muted_glyph\":null,\"nonselection_glyph\":{\"id\":\"1550\",\"type\":\"Line\"},\"selection_glyph\":null,\"view\":{\"id\":\"1552\",\"type\":\"CDSView\"}},\"id\":\"1551\",\"type\":\"GlyphRenderer\"},{\"attributes\":{\"active_drag\":\"auto\",\"active_inspect\":\"auto\",\"active_multi\":null,\"active_scroll\":\"auto\",\"active_tap\":\"auto\",\"tools\":[{\"id\":\"1519\",\"type\":\"PanTool\"},{\"id\":\"1520\",\"type\":\"WheelZoomTool\"},{\"id\":\"1521\",\"type\":\"BoxZoomTool\"},{\"id\":\"1522\",\"type\":\"SaveTool\"},{\"id\":\"1523\",\"type\":\"ResetTool\"},{\"id\":\"1524\",\"type\":\"HelpTool\"}]},\"id\":\"1525\",\"type\":\"Toolbar\"},{\"attributes\":{\"line_alpha\":0.1,\"line_color\":\"#1f77b4\",\"x\":{\"field\":\"x\"},\"y\":{\"field\":\"y\"}},\"id\":\"1536\",\"type\":\"Line\"},{\"attributes\":{\"callback\":null},\"id\":\"1501\",\"type\":\"DataRange1d\"},{\"attributes\":{\"source\":{\"id\":\"1548\",\"type\":\"ColumnDataSource\"}},\"id\":\"1552\",\"type\":\"CDSView\"},{\"attributes\":{\"callback\":null,\"data\":{\"x\":[6,7,8,9,10,11,12,13,14],\"y\":[10,10,10,70,370,180,2510,5890,1790]},\"selected\":{\"id\":\"1577\",\"type\":\"Selection\"},\"selection_policy\":{\"id\":\"1576\",\"type\":\"UnionRenderers\"}},\"id\":\"1548\",\"type\":\"ColumnDataSource\"},{\"attributes\":{},\"id\":\"1560\",\"type\":\"Selection\"},{\"attributes\":{\"callback\":null},\"id\":\"1503\",\"type\":\"DataRange1d\"},{\"attributes\":{},\"id\":\"1507\",\"type\":\"LinearScale\"},{\"attributes\":{\"line_color\":\"red\",\"x\":{\"field\":\"x\"},\"y\":{\"field\":\"y\"}},\"id\":\"1564\",\"type\":\"Line\"},{\"attributes\":{},\"id\":\"1618\",\"type\":\"UnionRenderers\"},{\"attributes\":{\"label\":{\"value\":\"ea minimum evaluations\"},\"renderers\":[{\"id\":\"1551\",\"type\":\"GlyphRenderer\"}]},\"id\":\"1562\",\"type\":\"LegendItem\"},{\"attributes\":{\"formatter\":{\"id\":\"1544\",\"type\":\"BasicTickFormatter\"},\"plot\":{\"id\":\"1500\",\"subtype\":\"Figure\",\"type\":\"Plot\"},\"ticker\":{\"id\":\"1510\",\"type\":\"BasicTicker\"}},\"id\":\"1509\",\"type\":\"LinearAxis\"},{\"attributes\":{\"source\":{\"id\":\"1699\",\"type\":\"ColumnDataSource\"}},\"id\":\"1703\",\"type\":\"CDSView\"},{\"attributes\":{},\"id\":\"1542\",\"type\":\"BasicTickFormatter\"},{\"attributes\":{\"items\":[{\"id\":\"1547\",\"type\":\"LegendItem\"},{\"id\":\"1562\",\"type\":\"LegendItem\"},{\"id\":\"1579\",\"type\":\"LegendItem\"},{\"id\":\"1717\",\"type\":\"LegendItem\"}],\"location\":\"top_left\",\"plot\":{\"id\":\"1500\",\"subtype\":\"Figure\",\"type\":\"Plot\"}},\"id\":\"1546\",\"type\":\"Legend\"},{\"attributes\":{\"line_alpha\":0.1,\"line_color\":\"#1f77b4\",\"x\":{\"field\":\"x\"},\"y\":{\"field\":\"y\"}},\"id\":\"1565\",\"type\":\"Line\"},{\"attributes\":{},\"id\":\"1522\",\"type\":\"SaveTool\"},{\"attributes\":{},\"id\":\"1760\",\"type\":\"Selection\"},{\"attributes\":{\"data_source\":{\"id\":\"1563\",\"type\":\"ColumnDataSource\"},\"glyph\":{\"id\":\"1564\",\"type\":\"Line\"},\"hover_glyph\":null,\"muted_glyph\":null,\"nonselection_glyph\":{\"id\":\"1565\",\"type\":\"Line\"},\"selection_glyph\":null,\"view\":{\"id\":\"1567\",\"type\":\"CDSView\"}},\"id\":\"1566\",\"type\":\"GlyphRenderer\"},{\"attributes\":{},\"id\":\"1619\",\"type\":\"Selection\"},{\"attributes\":{},\"id\":\"1544\",\"type\":\"BasicTickFormatter\"},{\"attributes\":{\"source\":{\"id\":\"1563\",\"type\":\"ColumnDataSource\"}},\"id\":\"1567\",\"type\":\"CDSView\"},{\"attributes\":{\"data_source\":{\"id\":\"1699\",\"type\":\"ColumnDataSource\"},\"glyph\":{\"id\":\"1700\",\"type\":\"Line\"},\"hover_glyph\":null,\"muted_glyph\":null,\"nonselection_glyph\":{\"id\":\"1701\",\"type\":\"Line\"},\"selection_glyph\":null,\"view\":{\"id\":\"1703\",\"type\":\"CDSView\"}},\"id\":\"1702\",\"type\":\"GlyphRenderer\"},{\"attributes\":{\"label\":{\"value\":\"brute force\"},\"renderers\":[{\"id\":\"1702\",\"type\":\"GlyphRenderer\"}]},\"id\":\"1717\",\"type\":\"LegendItem\"},{\"attributes\":{\"bottom_units\":\"screen\",\"fill_alpha\":{\"value\":0.5},\"fill_color\":{\"value\":\"lightgrey\"},\"left_units\":\"screen\",\"level\":\"overlay\",\"line_alpha\":{\"value\":1.0},\"line_color\":{\"value\":\"black\"},\"line_dash\":[4,4],\"line_width\":{\"value\":2},\"plot\":null,\"render_mode\":\"css\",\"right_units\":\"screen\",\"top_units\":\"screen\"},\"id\":\"1527\",\"type\":\"BoxAnnotation\"},{\"attributes\":{\"plot\":null,\"text\":\"\"},\"id\":\"1539\",\"type\":\"Title\"},{\"attributes\":{},\"id\":\"1576\",\"type\":\"UnionRenderers\"},{\"attributes\":{\"line_color\":\"darkgray\",\"x\":{\"field\":\"x\"},\"y\":{\"field\":\"y\"}},\"id\":\"1700\",\"type\":\"Line\"},{\"attributes\":{},\"id\":\"1577\",\"type\":\"Selection\"},{\"attributes\":{},\"id\":\"1510\",\"type\":\"BasicTicker\"},{\"attributes\":{},\"id\":\"1515\",\"type\":\"BasicTicker\"},{\"attributes\":{\"source\":{\"id\":\"1534\",\"type\":\"ColumnDataSource\"}},\"id\":\"1538\",\"type\":\"CDSView\"},{\"attributes\":{\"line_alpha\":0.1,\"line_color\":\"#1f77b4\",\"x\":{\"field\":\"x\"},\"y\":{\"field\":\"y\"}},\"id\":\"1701\",\"type\":\"Line\"},{\"attributes\":{\"label\":{\"value\":\"ea maximum evaluations\"},\"renderers\":[{\"id\":\"1566\",\"type\":\"GlyphRenderer\"}]},\"id\":\"1579\",\"type\":\"LegendItem\"},{\"attributes\":{\"line_color\":\"cornflowerblue\",\"x\":{\"field\":\"x\"},\"y\":{\"field\":\"y\"}},\"id\":\"1535\",\"type\":\"Line\"},{\"attributes\":{\"callback\":null,\"data\":{\"x\":[6,7,8,9,10,11,12,13],\"y\":[187,187,2843,7686,58987,462121,4545700,47369404]},\"selected\":{\"id\":\"1760\",\"type\":\"Selection\"},\"selection_policy\":{\"id\":\"1759\",\"type\":\"UnionRenderers\"}},\"id\":\"1699\",\"type\":\"ColumnDataSource\"}],\"root_ids\":[\"1500\"]},\"title\":\"Bokeh Application\",\"version\":\"1.0.1\"}};\n",
       "  var render_items = [{\"docid\":\"c4dd8f46-9f2e-4b88-b90a-b92cc8d58f72\",\"roots\":{\"1500\":\"139af6c0-e8c3-4704-9105-48f937cad10e\"}}];\n",
       "  root.Bokeh.embed.embed_items_notebook(docs_json, render_items);\n",
       "\n",
       "  }\n",
       "  if (root.Bokeh !== undefined) {\n",
       "    embed_document(root);\n",
       "  } else {\n",
       "    var attempts = 0;\n",
       "    var timer = setInterval(function(root) {\n",
       "      if (root.Bokeh !== undefined) {\n",
       "        embed_document(root);\n",
       "        clearInterval(timer);\n",
       "      }\n",
       "      attempts++;\n",
       "      if (attempts > 100) {\n",
       "        console.log(\"Bokeh: ERROR: Unable to run BokehJS code because BokehJS library is missing\");\n",
       "        clearInterval(timer);\n",
       "      }\n",
       "    }, 10, root)\n",
       "  }\n",
       "})(window);"
      ],
      "application/vnd.bokehjs_exec.v0+json": ""
     },
     "metadata": {
      "application/vnd.bokehjs_exec.v0+json": {
       "id": "1500"
      }
     },
     "output_type": "display_data"
    }
   ],
   "source": [
    "show(f)"
   ]
  },
  {
   "cell_type": "code",
   "execution_count": null,
   "metadata": {},
   "outputs": [],
   "source": []
  }
 ],
 "metadata": {
  "kernelspec": {
   "display_name": "Python 3",
   "language": "python",
   "name": "python3"
  },
  "language_info": {
   "codemirror_mode": {
    "name": "ipython",
    "version": 3
   },
   "file_extension": ".py",
   "mimetype": "text/x-python",
   "name": "python",
   "nbconvert_exporter": "python",
   "pygments_lexer": "ipython3",
   "version": "3.7.0"
  }
 },
 "nbformat": 4,
 "nbformat_minor": 2
}
